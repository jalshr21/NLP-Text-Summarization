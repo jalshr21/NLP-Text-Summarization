{
 "cells": [
  {
   "cell_type": "code",
   "execution_count": 1,
   "metadata": {},
   "outputs": [],
   "source": [
    "import json, gzip\n",
    "\n",
    "path = \"train.jsonl.gz\"\n",
    "data = []\n",
    "i = 0\n",
    "with gzip.open(path) as f:\n",
    "    for ln in f:\n",
    "        i+=1\n",
    "        if i>5000:\n",
    "            break\n",
    "        obj = json.loads(ln.decode('utf-8'))\n",
    "        data.append(obj)\n",
    "        \n",
    "            "
   ]
  },
  {
   "cell_type": "code",
   "execution_count": 2,
   "metadata": {},
   "outputs": [
    {
     "name": "stdout",
     "output_type": "stream",
     "text": [
      "5000\n"
     ]
    }
   ],
   "source": [
    "print(len(data))"
   ]
  },
  {
   "cell_type": "code",
   "execution_count": 3,
   "metadata": {},
   "outputs": [],
   "source": [
    "# a = \"He's a good boy. He didn't go? Tribune will track the world\\'s most popular sporting event.\"\n",
    "# a = re.sub(r\"([.!?,'])\", r\" \\1\", a.lower())\n",
    "# a = re.split('\\*|\\n| ',a)\n",
    "# print(a)\n",
    "# # print(data[0]['summary'])"
   ]
  },
  {
   "cell_type": "code",
   "execution_count": 4,
   "metadata": {},
   "outputs": [],
   "source": [
    "# print(data[0])\n"
   ]
  },
  {
   "cell_type": "code",
   "execution_count": 5,
   "metadata": {},
   "outputs": [],
   "source": [
    "# print(type(data[0]))"
   ]
  },
  {
   "cell_type": "code",
   "execution_count": 6,
   "metadata": {},
   "outputs": [],
   "source": [
    "# print(type(data[2]['text']))"
   ]
  },
  {
   "cell_type": "code",
   "execution_count": 7,
   "metadata": {},
   "outputs": [],
   "source": [
    "import torch\n",
    "import torch.nn as nn"
   ]
  },
  {
   "cell_type": "code",
   "execution_count": 8,
   "metadata": {},
   "outputs": [],
   "source": [
    "data1 = []\n",
    "for i in range(len(data)):\n",
    "    data1.append( {k: data[i][k] for k in ('summary', 'text')})"
   ]
  },
  {
   "cell_type": "code",
   "execution_count": 9,
   "metadata": {},
   "outputs": [
    {
     "name": "stdout",
     "output_type": "stream",
     "text": [
      "dict_keys(['text', 'summary'])\n",
      "<class 'dict'>\n"
     ]
    }
   ],
   "source": [
    "print(data1[0].keys())\n",
    "print(type(data1[0]))"
   ]
  },
  {
   "cell_type": "code",
   "execution_count": 10,
   "metadata": {},
   "outputs": [],
   "source": [
    "#Vocab creation\n",
    "import re\n",
    "import unicodedata\n",
    "# Default word tokens\n",
    "PAD_token = 0  # Used for padding short sentences\n",
    "SOS_token = 1  # Start-of-sentence token\n",
    "EOS_token = 2  # End-of-sentence token\n",
    "UNK_token = 3  # Unknown word token\n",
    "class Voc:\n",
    "    def __init__(self, name):\n",
    "        self.name = name\n",
    "        self.trimmed = False\n",
    "        self.word2index = {\"PAD\":PAD_token, \"SOS\":SOS_token, \"EOS\":EOS_token, \"UNK\":UNK_token}\n",
    "        self.word2count = {}\n",
    "        self.index2word = {PAD_token: \"PAD\", SOS_token: \"SOS\", EOS_token: \"EOS\", UNK_token:\"UNK\"}\n",
    "        self.num_words = 4  # Count SOS, EOS, PAD, UNK\n",
    "        \n",
    "    def addWord(self, word):\n",
    "        if word not in self.word2index:\n",
    "            self.word2index[word] = self.num_words\n",
    "            self.word2count[word] = 1\n",
    "            self.index2word[self.num_words] = word\n",
    "            self.num_words += 1\n",
    "        else:\n",
    "            self.word2count[word] += 1"
   ]
  },
  {
   "cell_type": "code",
   "execution_count": 23,
   "metadata": {},
   "outputs": [],
   "source": [
    "MAX_LENGTH = 200  # Maximum sentence length to consider\n",
    "\n",
    "# Turn a Unicode string to plain ASCII, thanks to\n",
    "# https://stackoverflow.com/a/518232/2809427\n",
    "def unicodeToAscii(s):\n",
    "    return ''.join(\n",
    "        c for c in unicodedata.normalize('NFD', s)\n",
    "        if unicodedata.category(c) != 'Mn'\n",
    "    )\n",
    "def tokenizeNnormalize(a):\n",
    "    a = unicodeToAscii(a.lower().strip())\n",
    "    a = re.sub(r\"([.!?,'])\", r\" \\1\", a.lower())\n",
    "    a = re.split('\\*|\\n| ',a)\n",
    "    return a\n",
    "\n",
    "def tokenToIndex(tokens):\n",
    "    a = []\n",
    "    for t in tokens:\n",
    "        if t in voc.word2index:\n",
    "            a.append(voc.word2index[t])\n",
    "        else:\n",
    "            a.append(voc.word2index['UNK'])\n",
    "    return a    "
   ]
  },
  {
   "cell_type": "code",
   "execution_count": 24,
   "metadata": {},
   "outputs": [],
   "source": [
    "# tokenizeNnormalize(\"he-will's.\")"
   ]
  },
  {
   "cell_type": "code",
   "execution_count": 25,
   "metadata": {
    "scrolled": false
   },
   "outputs": [],
   "source": [
    "import nltk.data\n",
    "from nltk import tokenize\n",
    "tokenizer = nltk.data.load('tokenizers/punkt/english.pickle')\n",
    "voc = Voc(\"tmp\")\n",
    "for d in data1:\n",
    "    temp = d['text']\n",
    "    temp = tokenizeNnormalize(temp)\n",
    "    for word in temp:\n",
    "            voc.addWord(word)\n",
    "    temp = d['summary']\n",
    "    temp = tokenizeNnormalize(temp)\n",
    "    for word in temp:\n",
    "            voc.addWord(word)"
   ]
  },
  {
   "cell_type": "code",
   "execution_count": 26,
   "metadata": {},
   "outputs": [
    {
     "name": "stdout",
     "output_type": "stream",
     "text": [
      "126405\n"
     ]
    }
   ],
   "source": [
    "print(len(voc.word2index))"
   ]
  },
  {
   "cell_type": "code",
   "execution_count": 52,
   "metadata": {},
   "outputs": [],
   "source": [
    "#Train set\n",
    "import json, gzip\n",
    "path = \"train.jsonl.gz\"\n",
    "data = {}\n",
    "train_data = []\n",
    "i = 0\n",
    "with gzip.open(path) as f:\n",
    "    for ln in f:\n",
    "        i+=1\n",
    "        if i>5000:\n",
    "            break\n",
    "        obj = json.loads(ln.decode('utf-8'))\n",
    "        a = tokenizeNnormalize(obj['text'])\n",
    "        if(len(a)>298):\n",
    "            continue\n",
    "        \n",
    "        #padding\n",
    "        a = ['SOS'] + a + ['EOS']\n",
    "        while(len(a)<300):    \n",
    "            a.append('PAD')   \n",
    "        \n",
    "        t = {}    \n",
    "        t['text'] = tokenToIndex(a)\n",
    "        \n",
    "        a = tokenizeNnormalize(obj['summary'])\n",
    "        a = ['SOS'] + a + ['EOS'] \n",
    "        \n",
    "        while(len(a)<170):    \n",
    "            a.append('PAD')\n",
    "        \n",
    "        t['summary'] = tokenToIndex(a)\n",
    "        train_data.append(t)\n",
    "data['train'] =  train_data       "
   ]
  },
  {
   "cell_type": "code",
   "execution_count": 53,
   "metadata": {},
   "outputs": [],
   "source": [
    "#Dev set\n",
    "\n",
    "path = \"dev.jsonl.gz\"\n",
    "dev_data = []\n",
    "i = 0\n",
    "with gzip.open(path) as f:\n",
    "    for ln in f:\n",
    "        i+=1\n",
    "        if i>1000:\n",
    "            break\n",
    "        obj = json.loads(ln.decode('utf-8'))\n",
    "        a = tokenizeNnormalize(obj['text'])\n",
    "        if(len(a)>298):\n",
    "            continue\n",
    "        a = ['SOS'] + a + ['EOS']    \n",
    "         #padding\n",
    "        while(len(a)<300):    \n",
    "            a.append('PAD')\n",
    "            \n",
    "        t = {}    \n",
    "        t['text'] = tokenToIndex(a)\n",
    "        a = tokenizeNnormalize(obj['summary'])\n",
    "        a = ['SOS'] + a + ['EOS']  \n",
    "        \n",
    "        while(len(a)<170):    \n",
    "            a.append('PAD')\n",
    "        \n",
    "        t['summary'] = tokenToIndex(a)\n",
    "        dev_data.append(t)\n",
    "data['dev'] =  dev_data       "
   ]
  },
  {
   "cell_type": "code",
   "execution_count": 54,
   "metadata": {},
   "outputs": [],
   "source": [
    "#Test Data\n",
    "\n",
    "path = \"test.jsonl.gz\"\n",
    "test_data = []\n",
    "i = 0\n",
    "with gzip.open(path) as f:\n",
    "    for ln in f:\n",
    "        i+=1\n",
    "        if i>1000:\n",
    "            break\n",
    "        obj = json.loads(ln.decode('utf-8'))\n",
    "        a = tokenizeNnormalize(obj['text'])\n",
    "        if(len(a)>298):\n",
    "            continue\n",
    "         #padding\n",
    "        a = ['SOS'] + a + ['EOS'] \n",
    "        while(len(a)<300):    \n",
    "            a.append('PAD')\n",
    "           \n",
    "        t = {}    \n",
    "        t['text'] = tokenToIndex(a)\n",
    "        a = tokenizeNnormalize(obj['summary'])\n",
    "        a = ['SOS'] + a + ['EOS']  \n",
    "        \n",
    "        while(len(a)<170):    \n",
    "            a.append('PAD')\n",
    "        \n",
    "        t['summary'] = tokenToIndex(a)\n",
    "        test_data.append(t)\n",
    "data['test'] =  test_data       "
   ]
  },
  {
   "cell_type": "code",
   "execution_count": 62,
   "metadata": {},
   "outputs": [],
   "source": [
    "import numpy as np\n",
    "batch = train_data[0:1]\n",
    "batch_text = np.zeros([len(batch), len(batch[0]['text'])])\n",
    "batch_summary = np.zeros([len(batch), len(batch[0]['summary'])])\n",
    "i = 0\n",
    "for d in batch:\n",
    "    batch_text[i] = d['text']\n",
    "    batch_summary[i] = d['summary']\n",
    "    i += 1\n"
   ]
  },
  {
   "cell_type": "code",
   "execution_count": 61,
   "metadata": {},
   "outputs": [],
   "source": [
    "# function to evaluate LM perplexity on some input data, DO NOT MODIFY\n",
    "def compute_perplexity(dataset, net, bsz=64):\n",
    "    criterion = nn.CrossEntropyLoss(ignore_index=0, reduction='sum')\n",
    "#     num_examples, seq_len = dataset.size()\n",
    "    num_examples = len(dataset)  \n",
    "    # we'll still use batches b/c we can't fit the whole\n",
    "    # validation set into GPU memory\n",
    "    batches = [(start, start + bsz) for start in\\\n",
    "               range(0, num_examples, bsz)]\n",
    "    \n",
    "    total_unmasked_tokens = 0. # count how many unpadded tokens there are\n",
    "    nll = 0.\n",
    "    for b_idx, (start, end) in enumerate(batches):\n",
    "            \n",
    "        batch = dataset[start:end]\n",
    "        batch_text = np.zeros([len(batch), len(batch[0]['text'])])\n",
    "        batch_summary = np.zeros([len(batch), len(batch[0]['summary'])])\n",
    "        i = 0\n",
    "        for d in batch:\n",
    "            batch_text[i] = d['text']\n",
    "            batch_summary[i] = d['summary']\n",
    "            i += 1\n",
    "\n",
    "        ut = torch.nonzero(batch_text).size(0)\n",
    "        preds = net(batch_text, batch_summary)\n",
    "        targets = batch_summary[:, 1:].contiguous().view(-1)\n",
    "        preds = preds[:, :-1, :].contiguous().view(-1, net.vocab_size)\n",
    "        loss = criterion(preds, targets)\n",
    "        nll += loss.detach()\n",
    "        total_unmasked_tokens += ut\n",
    "\n",
    "    perplexity = torch.exp(nll / total_unmasked_tokens).cpu()\n",
    "    return perplexity.data\n",
    "\n",
    "\n",
    "def train_lm(dataset, params, net):\n",
    "    \n",
    "    # since the first index corresponds to the PAD token, we just ignore it\n",
    "    # when computing the loss\n",
    "    criterion = nn.CrossEntropyLoss(ignore_index=0)\n",
    "    \n",
    "    optimizer = optim.Adam(net.parameters(), lr=params['learning_rate'])\n",
    "    num_examples = len(dataset)    \n",
    "    batches = [(start, start + params['batch_size']) for start in\\\n",
    "               range(0, num_examples, params['batch_size'])]\n",
    "    \n",
    "    for epoch in range(params['epochs']):\n",
    "        ep_loss = 0.\n",
    "        start_time = time.time()\n",
    "        random.shuffle(batches)\n",
    "        \n",
    "        # for each batch, calculate loss and optimize model parameters            \n",
    "        for b_idx, (start, end) in enumerate(batches):\n",
    "            batch = dataset[start:end]\n",
    "            \n",
    "            batch_text = np.zeros([len(batch), len(batch[0]['text'])])\n",
    "            batch_summary = np.zeros([len(batch), len(batch[0]['summary'])])\n",
    "            i = 0\n",
    "            for d in batch:\n",
    "                batch_text[i] = d['text']\n",
    "                batch_summary[i] = d['summary']\n",
    "                i += 1\n",
    "\n",
    "            preds = net(batch_text, batch_summary)\n",
    "            \n",
    "            preds = preds[:, :-1, :].contiguous().view(-1, net.vocab_size)\n",
    "            targets = batch_summary[:, 1:].contiguous().view(-1)\n",
    "            loss = criterion(preds, targets)\n",
    "            \n",
    "            loss.backward()\n",
    "            optimizer.step()\n",
    "            optimizer.zero_grad()\n",
    "            ep_loss += loss\n",
    "\n",
    "        print('epoch: %d, loss: %0.2f, time: %0.2f sec, dev perplexity: %0.2f' %\\\n",
    "              (epoch, ep_loss, time.time()-start_time, compute_perplexity(data['dev'], net)))"
   ]
  },
  {
   "cell_type": "code",
   "execution_count": 64,
   "metadata": {},
   "outputs": [],
   "source": [
    "class SelfAttention(nn.Module):\n",
    "    def __init__(self, params):\n",
    "        super(SelfAttention, self).__init__()\n",
    "        self.vocab_size = params['vocab_size']\n",
    "        self.d_emb = params['d_emb']\n",
    "        self.embeddings = nn.Embedding(self.vocab_size, self.d_emb)\n",
    "        \n",
    "    def forward(self, batch):\n",
    "        pass    "
   ]
  },
  {
   "cell_type": "code",
   "execution_count": 65,
   "metadata": {},
   "outputs": [],
   "source": [
    "params = {}\n",
    "params['vocab_size'] = len(voc.word2index)\n",
    "params['d_emb'] = 512\n",
    "params['d_hid'] = 512\n",
    "params['batch_size'] = 50\n",
    "params['epochs'] = 5\n",
    "params['learning_rate'] = 0.001\n",
    "\n",
    "net = SelfAttention(params)"
   ]
  },
  {
   "cell_type": "code",
   "execution_count": 81,
   "metadata": {},
   "outputs": [
    {
     "name": "stderr",
     "output_type": "stream",
     "text": [
      "WARNING: Logging before flag parsing goes to stderr.\n",
      "W0404 18:21:31.275345 10596 __init__.py:56] Some hub symbols are not available because TensorFlow version is less than 1.14\n"
     ]
    }
   ],
   "source": [
    "###Universal Sentence Embedding\n",
    "\n",
    "import tensorflow as tf\n",
    "import tensorflow_hub as hub\n",
    "import numpy as np\n",
    "import os, sys\n",
    "# from sklearn.metrics.pairwise import cosine_similarity"
   ]
  },
  {
   "cell_type": "code",
   "execution_count": 8,
   "metadata": {},
   "outputs": [
    {
     "name": "stdout",
     "output_type": "stream",
     "text": [
      "WARNING:tensorflow:From C:\\Users\\Shruti1992\\Anaconda3\\envs\\cs682\\lib\\site-packages\\tensorflow\\python\\ops\\control_flow_ops.py:3632: colocate_with (from tensorflow.python.framework.ops) is deprecated and will be removed in a future version.\n",
      "Instructions for updating:\n",
      "Colocations handled automatically by placer.\n"
     ]
    },
    {
     "name": "stderr",
     "output_type": "stream",
     "text": [
      "W0331 22:47:02.741527 11132 deprecation.py:323] From C:\\Users\\Shruti1992\\Anaconda3\\envs\\cs682\\lib\\site-packages\\tensorflow\\python\\ops\\control_flow_ops.py:3632: colocate_with (from tensorflow.python.framework.ops) is deprecated and will be removed in a future version.\n",
      "Instructions for updating:\n",
      "Colocations handled automatically by placer.\n"
     ]
    }
   ],
   "source": [
    "module_url = \"https://tfhub.dev/google/universal-sentence-encoder/2\" #@param [\"https://tfhub.dev/google/universal-sentence-encoder/2\", \"https://tfhub.dev/google/universal-sentence-encoder-large/3\"]\n",
    "\n",
    "# Import the Universal Sentence Encoder's TF Hub module\n",
    "embed = hub.Module(module_url)\n",
    "\n",
    "# Reduce logging output.\n",
    "tf.logging.set_verbosity(tf.logging.ERROR)"
   ]
  },
  {
   "cell_type": "code",
   "execution_count": 9,
   "metadata": {},
   "outputs": [],
   "source": [
    "import nltk.data\n",
    "from nltk import tokenize\n",
    "tokenizer = nltk.data.load('tokenizers/punkt/english.pickle')\n",
    "data1 = data[2]['text']\n",
    "# print ('\\n-----\\n'.join(tokenizer.tokenize(data1)))\n",
    "sentences_list = tokenize.sent_tokenize(data1)"
   ]
  },
  {
   "cell_type": "code",
   "execution_count": 10,
   "metadata": {},
   "outputs": [],
   "source": [
    "with tf.Session() as session:\n",
    "    session.run([tf.global_variables_initializer(), tf.tables_initializer()])\n",
    "    sentences_embeddings = session.run(embed(sentences_list))"
   ]
  },
  {
   "cell_type": "code",
   "execution_count": 11,
   "metadata": {},
   "outputs": [
    {
     "name": "stdout",
     "output_type": "stream",
     "text": [
      "[[ 0.07024275  0.04368595 -0.03332052 ...  0.03477242 -0.0144234\n",
      "  -0.01740775]\n",
      " [ 0.05018305  0.04429227 -0.03065547 ... -0.03877924 -0.00763866\n",
      "   0.04358229]\n",
      " [ 0.05427796  0.05102638 -0.02369512 ... -0.03321327  0.02231499\n",
      "  -0.02626558]\n",
      " ...\n",
      " [ 0.06598777  0.02679331 -0.05378729 ... -0.06943782 -0.02672804\n",
      "  -0.0065122 ]\n",
      " [ 0.01991204  0.03930764 -0.03562501 ... -0.01346327 -0.01935354\n",
      "   0.02114006]\n",
      " [ 0.02234399 -0.04831612 -0.03079941 ... -0.06042011 -0.07132834\n",
      "  -0.03533927]]\n"
     ]
    }
   ],
   "source": [
    "print(sentences_embeddings)"
   ]
  },
  {
   "cell_type": "code",
   "execution_count": null,
   "metadata": {},
   "outputs": [],
   "source": []
  }
 ],
 "metadata": {
  "kernelspec": {
   "display_name": "Python 3",
   "language": "python",
   "name": "python3"
  },
  "language_info": {
   "codemirror_mode": {
    "name": "ipython",
    "version": 3
   },
   "file_extension": ".py",
   "mimetype": "text/x-python",
   "name": "python",
   "nbconvert_exporter": "python",
   "pygments_lexer": "ipython3",
   "version": "3.5.6"
  }
 },
 "nbformat": 4,
 "nbformat_minor": 2
}
