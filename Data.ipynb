{
 "cells": [
  {
   "cell_type": "code",
   "execution_count": 11,
   "metadata": {},
   "outputs": [],
   "source": [
    "import json, gzip\n",
    "\n",
    "path = \"train.jsonl.gz\"\n",
    "data = []\n",
    "i = 0\n",
    "with gzip.open(path) as f:\n",
    "    for ln in f:\n",
    "        obj = json.loads(ln.decode('utf-8'))\n",
    "        data.append(obj)\n",
    "        i+=1\n",
    "        if i>10:\n",
    "            break\n",
    "            "
   ]
  },
  {
   "cell_type": "code",
   "execution_count": 12,
   "metadata": {},
   "outputs": [
    {
     "name": "stdout",
     "output_type": "stream",
     "text": [
      "11\n"
     ]
    }
   ],
   "source": [
    "print(len(data))"
   ]
  },
  {
   "cell_type": "code",
   "execution_count": 13,
   "metadata": {},
   "outputs": [
    {
     "name": "stdout",
     "output_type": "stream",
     "text": [
      "{'coverage': 1.0, 'date': '20060618204254', 'density_bin': 'mixed', 'density': 7.8235294118, 'title': 'Surge in Racist Mood Raises Concerns on Eve of World Cup', 'compression_bin': 'high', 'text': 'HAMBURG, Germany, June 3 \\x97 As he left the soccer field after a club match in the eastern German city of Halle on March 25, the Nigerian forward Adebowale Ogungbure was spit upon, jeered with racial remarks and mocked with monkey noises. In rebuke, he placed two fingers under his nose to simulate a Hitler mustache and thrust his arm in a Nazi salute.\\n\\nMarc Zoro, right, an Ivory Coast native, was a target of racial slurs from the home fans in Messina, Italy. Adriano, a star with Inter Milan, tried to persuade him to stay on the field.\\n\\nFrom now until its conclusion on July 9, Jeff Z. Klein and other staff members of The Times and International Herald Tribune will track the world\\'s most popular sporting event.\\n\\nYour guide to the games in Germany: teams, rosters, schedules, statistics, venues and more.\\n\\nIn April, the American defender Oguchi Onyewu, playing for his professional club team in Belgium, dismissively gestured toward fans who were making simian chants at him. Then, as he went to throw the ball inbounds, Onyewu said a fan of the opposing team reached over a barrier and punched him in the face.\\n\\nInternational soccer has been plagued for years by violence among fans, including racial incidents. But FIFA, soccer\\'s Zurich-based world governing body, said there has been a recent surge in discriminatory behavior toward blacks by fans and other players, an escalation that has dovetailed with the signing of more players from Africa and Latin America by elite European clubs.\\n\\nThis \"deplorable trend,\" as FIFA has called it, now threatens to embarrass the sport on its grandest stage, the World Cup, which opens June 9 for a monthlong run in 12 cities around Germany. More than 30 billion cumulative television viewers are expected to watch part of the competition and Joseph S. Blatter, FIFA\\'s president, has vowed to crack down on racist behavior during the tournament.\\n\\nUnderlining FIFA\\'s concerns, the issue has been included on the agenda at its biannual Congress, scheduled to be held this week in Munich. A campaign against bigotry includes \"Say No to Racism\" stadium banners, television commercials, and team captains making pregame speeches during the quarterfinals of the 32-team tournament.\\n\\nPlayers, coaches and officials have been threatened with sanctions. But FIFA has said it would not be practical to use the harshest penalties available to punish misbehaving fans \\x97 halting matches, holding games in empty stadiums and deducting points that teams receive for victories and ties.\\n\\nPlayers and antiracism experts said they expected offensive behavior during the tournament, including monkey-like chanting; derisive singing; the hanging of banners that reflect neofascist and racist beliefs; and perhaps the tossing of bananas or banana peels, all familiar occurrences during matches in Spain, Italy, eastern Germany and eastern Europe.\\n\\n\"For us it\\'s quite clear this is a reflection of underlying tensions that exist in European societies,\" said Piara Powar, director of the London-based antiracist soccer organization Kick It Out. He said of Eastern Europe: \"Poverty, unemployment, is a problem. Indigenous people are looking for easy answers to blame. Often newcomers bear the brunt of the blame.\"\\n\\nYet experts and players also said they believed the racist behavior would be more constrained at the World Cup than it was during play in various domestic leagues around Europe, because of increased security, the international makeup of the crowds, higher ticket prices and a sense that spectators would be generally well behaved on soccer\\'s grandest stage.\\n\\n\"We have to differentiate inside and outside the stadium,\" said Kurt Wachter, project coordinator for the Vienna-based Football Against Racism in Europe, a network of organizations that seeks to fight bigotry and xenophobia in 35 countries.\\n\\n\"Racism is a feature of many football leagues inside and outside Europe,\" said Wachter, who expects most problems to occur outside stadiums where crowds are less controlled. \"We\\'re sure we will see some things we\\'re used to seeing. It won\\'t stop because of the World Cup.\"\\n\\nParticularly worrisome are the possibilities of attacks by extremist groups on spectators and visitors in train stations, bars, restaurants and open areas near the stadiums, Wachter and other experts said. To promote tolerance, he said his organization would organize street soccer matches outside World Cup stadiums.\\n\\nRecent attacks in the eastern Germany city of Potsdam on an Ethiopian-born engineer and in eastern Berlin on a state lawmaker of Turkish descent, along with a government report showing an increase in right-wing violence, have ignited fears that even sporadic hate crimes and other intolerant behavior could mar the World Cup, whose embracing motto is A Time to Make Friends.\\n\\nFar-right extremism is isolated on the fringe of German society, and the German government has intended to confront its Nazi past while preaching openness and tolerance. Germany has one of the world\\'s lowest rates of violent crime. Still, an immigrant group called the Africa Council said it would publish a \"No Go\" guide for nonwhites during the World Cup, particularly for some areas of eastern Berlin and for surrounding towns of the state of Brandenburg.\\n\\nIn mid-May, a former government spokesman, Uwe-Karsten Heye, caused a furor when he tried to assist visitors by advising that anyone \"with a different skin color\" avoid visiting small and midsize towns in Brandenburg and elsewhere in eastern Germany, or they \"may not leave with their lives.\"\\n\\nThese remarks received blunt criticism from high-ranking German officials. Wolfgang Schäuble, the minister of the interior, said there were no areas in which World Cup visitors should feel threatened, calling Germany \"one of the safest places in the world.\"\\n\\nAngela Merkel, Germany\\'s chancellor, has warned that \"anybody who threatens, attacks or, worse, kills anybody because of the color of his skin or because he comes from another country will face the full force of the law.\"\\n\\nThe Bundesliga in Germany is one of the world\\'s top professional soccer leagues, and has not experienced widespread racism. Incidents involving racial abuse of black players are more prevalent in semiprofessional and amateur leagues in eastern Germany. One of the cities playing host to the World Cup, Leipzig, is in the former East Germany. Another, Berlin, was partly in East Germany.\\n\\nAfter making a Nazi salute, which is illegal in Germany, Ogungbure of Nigeria was investigated by the authorities. But a charge of unconstitutional behavior against him was soon dropped because his gesture had been meant to renounce extremist activity.\\n\\n\"I regret what I did,\" Ogungbure said in a telephone interview from Leipzig. \"I should have walked away. I\\'m a professional, but I\\'m a human, too. They don\\'t spit on dogs. Why should they spit on me? I felt like a nobody.\"\\n\\nGerald Asamoah, a forward on Germany\\'s World Cup team and a native of Ghana, has been recounting an incident in the 1990\\'s when he was pelted with bananas before a club match in Cottbus. \"I\\'ll never forget that,\" he said in a television interview. \"It\\'s like we\\'re not people.\" He has expressed anger and sadness over a banner distributed by a right-wing group that admonished, \"No Gerald, You Are Not Germany.\"\\n\\nCory Gibbs, an American defender who formerly played professionally in Germany, said there were restaurants and nightclubs in eastern Germany \\x97 and even around Hamburg in the west \\x97 where he was told \"You\\'re not welcome\" because he was black.\\n\\n\"I think racism is everywhere,\" said Gibbs, who will miss the World Cup because of a knee injury. \"But I feel in Germany racism is a lot more direct.\"\\n\\nRacist behavior at soccer matches is primarily displayed by men and is fueled by several factors, according to experts: alcohol; the perceived \"us versus them\" threat of multiculturalism in societies that were once more ethnically homogenous; the difficult economic transition of eastern European nations since the fall of the Berlin Wall; and crude attempts to unnerve opposing players during bitter, consuming rivalries.\\n\\nOther observers say that the soccer stadium in Europe has become a communal soapbox, one of the few remaining public spaces where spectators can be outrageous and where political correctness does not exist and is even discouraged.\\n\\n\"Nowhere else other than football do people meet someplace and have a stage for shouting things as an anonymous mass,\" said Gerd Dembowski, director of a Berlin-based antiracist organization called Floodlight. \"You can shout things you would never say in your normal life, let out your frustrations.\"\\n\\nNot all the misbehavior can be traced to fans or to Europe. Players and coaches have also been transgressors.\\n\\nLuis Aragonés, Spain\\'s World Cup coach, was fined in 2004 after making racial remarks about the French star Thierry Henry. In March, in the Brazilian league, the defender Antonio Carlos was suspended for 120 days, and 4 additional matches, after an incident in which he shouted \"monkey\" at an opposing player who was black. But it was an incident in Spain on Feb. 25 that galvanized antiracist sentiment and prodded FIFA into taking a tougher stand against bigoted behavior. That match, in Zaragoza, was temporarily halted in the 77th minute by the referee, who threatened to cancel the remaining 13 minutes after Samuel Eto\\'o, the star forward for Barcelona, was subjected to a chorus of racial taunts. Eto\\'o threatened to leave the field. His coach and teammates eventually persuaded him to continue, and last month Barcelona won the European Champions Cup.\\n\\nEto\\'o has become one of the sport\\'s most outspoken players on the subject of racism. \"I\\'ll continue to play,\" Eto\\'o, whose national team, Cameroon, did not qualify for the World Cup, said this week through his agent. \"I\\'m not going to give up and hide and put my head down. I\\'ll score goals against the teams whose fans are making rude noises.\"\\n\\nUnder pressure to curb what it acknowledged was an increase in racist incidents, FIFA in late March announced a stricter set of penalties that would apply for club and national team matches. The sanctions would include suspensions of five matches for players and officials who make discriminatory gestures, fines of $16,600 to $25,000 for each offense and two-year stadium bans for offending spectators. It also said teams, which receive 3 points in the standings for a victory, would have 3 points deducted on a first offense by misbehaving players, officials or fans.\\n\\nBlatter, the FIFA president, told reporters that the 3-point deduction for abhorrent fan behavior would apply during the World Cup, then backed away from his comments in April. Blatter declined to comment for this article. And it remains unclear exactly what penalties will be levied against World Cup teams for offensive behavior by fans, coaches and players.\\n\\nNicolas Maingot, a FIFA spokesman, said World Cup sanctions would be made public later. But in an e-mail response to questions, he said: \"Only racist abuses in the field of play will be punished. For fans, it will be impossible, due to the multinationality of the audience. In other words, it would be impossible to identify from which side would potential racist abusers come.\"\\n\\nCritics counter that spectators are supposed to have their names on their tickets, so identifying offending fans should be relatively easy.\\n\\nOnyewu, the American defender who was punched by an opposing fan in Belgium, said the man was identified through an anonymous tip and was barred from attending matches for two years. He said he did not retaliate because he believed that racist behavior reflected acts of a minority of fans.\\n\\n\"I\\'m anticipating a more professional environment in Germany because it\\'s the World Cup,\" Onyewu said. Even so, he said, although antiracist efforts could restrict public behavior, \"that\\'s only helping the exterior.\"\\n\\nHe added, \"The interior mind thinking, you can\\'t really change that.\"', 'archive': 'http://web.archive.org/web/20060618204254id_/http://www.nytimes.com:80/2006/06/04/sports/soccer/04racism.html?ei=5090&en=2cc7885a61bb8cf5&ex=1307073600&partner=rssuserland&emc=rss&pagewanted=all', 'coverage_bin': 'high', 'summary': 'A surge in discriminatory behavior toward blacks by fans and other players threatens to embarrass soccer.', 'compression': 137.4705882353, 'url': 'http://www.nytimes.com/2006/06/04/sports/soccer/04racism.html'}\n"
     ]
    }
   ],
   "source": [
    "print(data[0])"
   ]
  },
  {
   "cell_type": "code",
   "execution_count": 14,
   "metadata": {},
   "outputs": [
    {
     "name": "stdout",
     "output_type": "stream",
     "text": [
      "<class 'dict'>\n"
     ]
    }
   ],
   "source": [
    "print(type(data[0]))"
   ]
  },
  {
   "cell_type": "code",
   "execution_count": 20,
   "metadata": {},
   "outputs": [
    {
     "name": "stdout",
     "output_type": "stream",
     "text": [
      "<class 'str'>\n"
     ]
    }
   ],
   "source": [
    "print(type(data[2]['text']))"
   ]
  },
  {
   "cell_type": "code",
   "execution_count": 17,
   "metadata": {},
   "outputs": [],
   "source": [
    "import tensorflow as tf\n",
    "import tensorflow_hub as hub\n",
    "import numpy as np\n",
    "import os, sys\n",
    "# from sklearn.metrics.pairwise import cosine_similarity"
   ]
  },
  {
   "cell_type": "code",
   "execution_count": 18,
   "metadata": {},
   "outputs": [
    {
     "name": "stdout",
     "output_type": "stream",
     "text": [
      "WARNING:tensorflow:From C:\\Users\\Shruti1992\\Anaconda3\\envs\\cs682\\lib\\site-packages\\tensorflow\\python\\ops\\control_flow_ops.py:3632: colocate_with (from tensorflow.python.framework.ops) is deprecated and will be removed in a future version.\n",
      "Instructions for updating:\n",
      "Colocations handled automatically by placer.\n"
     ]
    },
    {
     "name": "stderr",
     "output_type": "stream",
     "text": [
      "W0325 16:44:46.478483  9812 deprecation.py:323] From C:\\Users\\Shruti1992\\Anaconda3\\envs\\cs682\\lib\\site-packages\\tensorflow\\python\\ops\\control_flow_ops.py:3632: colocate_with (from tensorflow.python.framework.ops) is deprecated and will be removed in a future version.\n",
      "Instructions for updating:\n",
      "Colocations handled automatically by placer.\n"
     ]
    }
   ],
   "source": [
    "module_url = \"https://tfhub.dev/google/universal-sentence-encoder/2\" #@param [\"https://tfhub.dev/google/universal-sentence-encoder/2\", \"https://tfhub.dev/google/universal-sentence-encoder-large/3\"]\n",
    "\n",
    "# Import the Universal Sentence Encoder's TF Hub module\n",
    "embed = hub.Module(module_url)\n",
    "\n",
    "# Reduce logging output.\n",
    "tf.logging.set_verbosity(tf.logging.ERROR)"
   ]
  },
  {
   "cell_type": "code",
   "execution_count": 26,
   "metadata": {},
   "outputs": [],
   "source": [
    "import nltk.data\n",
    "from nltk import tokenize\n",
    "tokenizer = nltk.data.load('tokenizers/punkt/english.pickle')\n",
    "data1 = data[2]['text']\n",
    "# print ('\\n-----\\n'.join(tokenizer.tokenize(data1)))\n",
    "sentences_list = tokenize.sent_tokenize(data1)"
   ]
  },
  {
   "cell_type": "code",
   "execution_count": 27,
   "metadata": {},
   "outputs": [],
   "source": [
    "with tf.Session() as session:\n",
    "    session.run([tf.global_variables_initializer(), tf.tables_initializer()])\n",
    "    sentences_embeddings = session.run(embed(sentences_list))"
   ]
  },
  {
   "cell_type": "code",
   "execution_count": 28,
   "metadata": {},
   "outputs": [
    {
     "name": "stdout",
     "output_type": "stream",
     "text": [
      "[[ 0.07024275  0.04368595 -0.03332052 ...  0.03477242 -0.0144234\n",
      "  -0.01740775]\n",
      " [ 0.05018305  0.04429227 -0.03065547 ... -0.03877924 -0.00763866\n",
      "   0.04358229]\n",
      " [ 0.05427796  0.05102638 -0.02369512 ... -0.03321327  0.02231499\n",
      "  -0.02626558]\n",
      " ...\n",
      " [ 0.06598777  0.02679331 -0.05378729 ... -0.06943782 -0.02672804\n",
      "  -0.0065122 ]\n",
      " [ 0.01991204  0.03930764 -0.03562501 ... -0.01346327 -0.01935354\n",
      "   0.02114006]\n",
      " [ 0.02234399 -0.04831612 -0.03079941 ... -0.06042011 -0.07132834\n",
      "  -0.03533927]]\n"
     ]
    }
   ],
   "source": [
    "print(sentences_embeddings)"
   ]
  },
  {
   "cell_type": "code",
   "execution_count": null,
   "metadata": {},
   "outputs": [],
   "source": []
  }
 ],
 "metadata": {
  "kernelspec": {
   "display_name": "Python 3",
   "language": "python",
   "name": "python3"
  },
  "language_info": {
   "codemirror_mode": {
    "name": "ipython",
    "version": 3
   },
   "file_extension": ".py",
   "mimetype": "text/x-python",
   "name": "python",
   "nbconvert_exporter": "python",
   "pygments_lexer": "ipython3",
   "version": "3.5.6"
  }
 },
 "nbformat": 4,
 "nbformat_minor": 2
}
