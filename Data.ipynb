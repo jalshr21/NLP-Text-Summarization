{
 "cells": [
  {
   "cell_type": "code",
   "execution_count": 13,
   "metadata": {},
   "outputs": [
    {
     "name": "stdout",
     "output_type": "stream",
     "text": [
      "{'archive': 'https://web.archive.org/web/2016040819id_/http://www.nydailynews.com/new-york/nyc-crime/teen-gang-member-sentenced-life-chance-article-1.2593811', 'compression': 18.4285714286, 'density': 1.5357142857, 'date': '2016040819', 'compression_bin': 'medium', 'coverage': 0.8214285714, 'density_bin': 'mixed', 'coverage_bin': 'medium'}\n",
      "{'archive': 'https://web.archive.org/web/2014072519id_/http://www.9news.com.au/afp/2014/07/25/19/20/no-survivors-on-algeria-flight-black-box-found-france', 'compression': 16.1176470588, 'density': 1.8529411765, 'date': '2014072519', 'compression_bin': 'medium', 'coverage': 0.8529411765, 'density_bin': 'mixed', 'coverage_bin': 'medium'}\n"
     ]
    }
   ],
   "source": [
    "import json\n",
    "import gzip as gz\n",
    "\n",
    "path = \"train.jsonl.gz\"\n",
    "data = []\n",
    "i=0\n",
    "with gz.open(path) as f:\n",
    "    for ln in f:\n",
    "        obj = json.loads(ln.decode('utf-8'))\n",
    "        data.append(obj)\n",
    "        print(data[i])\n",
    "        i = i+1\n",
    "        if(len(data)>1):\n",
    "            break"
   ]
  },
  {
   "cell_type": "code",
   "execution_count": null,
   "metadata": {},
   "outputs": [],
   "source": []
  }
 ],
 "metadata": {
  "kernelspec": {
   "display_name": "Python 3",
   "language": "python",
   "name": "python3"
  }
 },
 "nbformat": 4,
 "nbformat_minor": 2
}
